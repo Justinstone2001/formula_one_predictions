{
 "cells": [
  {
   "cell_type": "code",
   "execution_count": 1,
   "metadata": {},
   "outputs": [],
   "source": [
    "import pandas as pd\n",
    "import matplotlib\n",
    "import numpy as np\n",
    "import seaborn as sns\n",
    "import matplotlib.pyplot as plt\n",
    "from sklearn.preprocessing import StandardScaler\n",
    "from sklearn.model_selection import train_test_split\n",
    "from sklearn.preprocessing import LabelEncoder\n",
    "from sklearn.impute import SimpleImputer\n",
    "from sklearn.tree import DecisionTreeClassifier"
   ]
  },
  {
   "cell_type": "code",
   "execution_count": 3,
   "metadata": {},
   "outputs": [],
   "source": [
    "circuits = pd.read_csv('historic_data/circuits.csv')\n",
    "constructor_results = pd.read_csv('historic_data/constructor_results.csv')\n",
    "constructor_standings = pd.read_csv('historic_data/constructor_standings.csv')\n",
    "constructors = pd.read_csv('historic_data/constructors.csv')\n",
    "driver_standings = pd.read_csv('historic_data/driver_standings.csv')\n",
    "drivers = pd.read_csv('historic_data/drivers.csv')\n",
    "pit_stops = pd.read_csv('historic_data/pit_stops.csv')\n",
    "qualifying = pd.read_csv('historic_data/qualifying.csv')\n",
    "races = pd.read_csv('historic_data/races.csv')\n",
    "results = pd.read_csv('historic_data/results.csv')\n",
    "seasons = pd.read_csv('historic_data/seasons.csv')\n",
    "sprint_results = pd.read_csv('historic_data/sprint_results.csv')\n",
    "status = pd.read_csv('historic_data/status.csv')"
   ]
  },
  {
   "cell_type": "code",
   "execution_count": 10,
   "metadata": {},
   "outputs": [
    {
     "name": "stdout",
     "output_type": "stream",
     "text": [
      "      raceId  year  round  circuitId  driverId  constructorId  grid  \\\n",
      "0       1052  2021      1          3         1            131     2   \n",
      "1       1052  2021      1          3       830              9     1   \n",
      "2       1052  2021      1          3       822            131     3   \n",
      "3       1052  2021      1          3       846              1     7   \n",
      "4       1052  2021      1          3       815              9     0   \n",
      "...      ...   ...    ...        ...       ...            ...   ...   \n",
      "1115    1110  2023     12         13       817            213    19   \n",
      "1116    1110  2023     12         13       858              3    18   \n",
      "1117    1110  2023     12         13       807            210     0   \n",
      "1118    1110  2023     12         13       832              6     4   \n",
      "1119    1110  2023     12         13       857              1     5   \n",
      "\n",
      "      positionOrder  Top 3 Finish  \n",
      "0                 1             1  \n",
      "1                 2             1  \n",
      "2                 3             1  \n",
      "3                 4             0  \n",
      "4                 5             0  \n",
      "...             ...           ...  \n",
      "1115             16             0  \n",
      "1116             17             0  \n",
      "1117             18             0  \n",
      "1118             19             0  \n",
      "1119             20             0  \n",
      "\n",
      "[1120 rows x 9 columns]\n"
     ]
    }
   ],
   "source": [
    "races_cleaned = races[[\"raceId\", \"year\", \"round\", \"circuitId\"]].copy()\n",
    "\n",
    "races_cleaned = races_cleaned.sort_values(by=['year', 'round'])\n",
    "\n",
    "races_cleaned = races_cleaned[races_cleaned[\"year\"] >= 2021]\n",
    "\n",
    "results_cleaned = results[[\"raceId\", \"driverId\", \"constructorId\", \"grid\", \"positionOrder\"]].copy()\n",
    "\n",
    "race_data = pd.merge(races_cleaned, results_cleaned, on='raceId')\n",
    "\n",
    "race_data['Top 3 Finish'] = race_data['positionOrder'].le(3).astype(int)\n",
    "\n",
    "print(race_data)"
   ]
  }
 ],
 "metadata": {
  "kernelspec": {
   "display_name": "Python 3",
   "language": "python",
   "name": "python3"
  },
  "language_info": {
   "codemirror_mode": {
    "name": "ipython",
    "version": 3
   },
   "file_extension": ".py",
   "mimetype": "text/x-python",
   "name": "python",
   "nbconvert_exporter": "python",
   "pygments_lexer": "ipython3",
   "version": "3.12.2"
  }
 },
 "nbformat": 4,
 "nbformat_minor": 2
}
